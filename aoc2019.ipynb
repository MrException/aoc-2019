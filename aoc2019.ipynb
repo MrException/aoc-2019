{
 "cells": [
  {
   "cell_type": "code",
   "execution_count": 1,
   "metadata": {},
   "outputs": [],
   "source": [
    "# Some useful functions, stolen from Peter Norvig: https://github.com/norvig/pytudes/blob/master/ipynb/Advent%202017.ipynb\n",
    "\n",
    "def Input(day):\n",
    "    \"Open this day's input file.\"\n",
    "    filename = 'data/input{}.txt'.format(day)\n",
    "    return open(filename)\n",
    "\n",
    "\n",
    "def Inputstr(day): \n",
    "    \"The contents of this day's input file as a str.\"\n",
    "    return Input(day).read().rstrip('\\n')\n",
    "\n",
    "\n",
    "def mapt(fn, *args): \n",
    "    \"Do a map, and make the results into a tuple.\"\n",
    "    return tuple(map(fn, *args))\n",
    "\n",
    "def Vector(line):\n",
    "    \"Parse a str into a tuple of atoms (numbers or str tokens).\"\n",
    "    return mapt(Atom, line.replace(',', ' ').split())\n",
    "\n",
    "def Atom(token):\n",
    "    \"Parse a str token into a number, or leave it as a str.\"\n",
    "    try:\n",
    "        return int(token)\n",
    "    except ValueError:\n",
    "        try:\n",
    "            return float(token)\n",
    "        except ValueError:\n",
    "            return token"
   ]
  },
  {
   "cell_type": "markdown",
   "metadata": {},
   "source": [
    "# Day 1"
   ]
  },
  {
   "cell_type": "code",
   "execution_count": 2,
   "metadata": {},
   "outputs": [
    {
     "data": {
      "text/plain": [
       "100"
      ]
     },
     "execution_count": 2,
     "metadata": {},
     "output_type": "execute_result"
    }
   ],
   "source": [
    "def fuel(mass):\n",
    "    return (mass // 3) - 2\n",
    "    \n",
    "masses = mapt(int, Input(1))\n",
    "N = len(masses)\n",
    "N"
   ]
  },
  {
   "cell_type": "markdown",
   "metadata": {},
   "source": [
    "### Part 1"
   ]
  },
  {
   "cell_type": "code",
   "execution_count": 3,
   "metadata": {},
   "outputs": [
    {
     "data": {
      "text/plain": [
       "3154112"
      ]
     },
     "execution_count": 3,
     "metadata": {},
     "output_type": "execute_result"
    }
   ],
   "source": [
    "part1 = 0\n",
    "for mass in masses:\n",
    "    part1 += fuel(mass)\n",
    "\n",
    "assert part1 == 3154112\n",
    "part1"
   ]
  },
  {
   "cell_type": "markdown",
   "metadata": {},
   "source": [
    "### Part 2"
   ]
  },
  {
   "cell_type": "code",
   "execution_count": 4,
   "metadata": {},
   "outputs": [
    {
     "data": {
      "text/plain": [
       "4728317"
      ]
     },
     "execution_count": 4,
     "metadata": {},
     "output_type": "execute_result"
    }
   ],
   "source": [
    "def fuelSq(mass):\n",
    "    f = fuel(mass)\n",
    "    return f + fuelSq(f) if f > 0 else 0\n",
    "\n",
    "part2 = 0\n",
    "for mass in masses:\n",
    "    part2 += fuelSq(mass)\n",
    "assert part2 == 4728317\n",
    "part2"
   ]
  },
  {
   "cell_type": "markdown",
   "metadata": {},
   "source": [
    "# Day 2"
   ]
  },
  {
   "cell_type": "code",
   "execution_count": 5,
   "metadata": {},
   "outputs": [
    {
     "data": {
      "text/plain": [
       "145"
      ]
     },
     "execution_count": 5,
     "metadata": {},
     "output_type": "execute_result"
    }
   ],
   "source": [
    "base = [int(x) for x in Input(2).read().split(',')]\n",
    "\n",
    "def reset():\n",
    "    return [x for x in base]\n",
    "    \n",
    "prog = reset()\n",
    "N = len(prog)\n",
    "N"
   ]
  },
  {
   "cell_type": "markdown",
   "metadata": {},
   "source": [
    "### Part 1"
   ]
  },
  {
   "cell_type": "code",
   "execution_count": 6,
   "metadata": {},
   "outputs": [
    {
     "data": {
      "text/plain": [
       "3224742"
      ]
     },
     "execution_count": 6,
     "metadata": {},
     "output_type": "execute_result"
    }
   ],
   "source": [
    "def run(noun, verb):\n",
    "    prog = reset()\n",
    "    \n",
    "    prog[1] = noun\n",
    "    prog[2] = verb\n",
    "\n",
    "    pos = 0\n",
    "    while True:\n",
    "        inst = prog[pos]\n",
    "        i1,i2,out = prog[pos+1],prog[pos+2],prog[pos+3]\n",
    "        if inst == 99:\n",
    "            break\n",
    "        elif inst == 1:\n",
    "            prog[out] = prog[i1] + prog[i2]\n",
    "        elif inst == 2:\n",
    "            prog[out] = prog[i1] * prog[i2]\n",
    "        else:\n",
    "            raise Exception(\"Bad instruction: {}\".format(inst)) \n",
    "        pos = pos + 4\n",
    "    \n",
    "    return prog[0]\n",
    "        \n",
    "\n",
    "part1 = run(12, 2)\n",
    "assert part1 == 3224742\n",
    "part1"
   ]
  },
  {
   "cell_type": "markdown",
   "metadata": {},
   "source": [
    "### Part 2"
   ]
  },
  {
   "cell_type": "code",
   "execution_count": 7,
   "metadata": {},
   "outputs": [
    {
     "name": "stdout",
     "output_type": "stream",
     "text": [
      "Found it: 79, 60\n"
     ]
    },
    {
     "data": {
      "text/plain": [
       "7960"
      ]
     },
     "execution_count": 7,
     "metadata": {},
     "output_type": "execute_result"
    }
   ],
   "source": [
    "def go():\n",
    "    for noun in range(0, 100):\n",
    "        for verb in range(0, 100):\n",
    "            try:\n",
    "                result = run(noun, verb)\n",
    "                if result == 19690720:\n",
    "                    print(\"Found it: {}, {}\".format(noun, verb))\n",
    "                    return (100 * noun) + verb\n",
    "            except:\n",
    "                print(\"{}, {} errors\".format(noun, verb))\n",
    "                \n",
    "part2 = go()\n",
    "assert part2 == 7960\n",
    "part2"
   ]
  },
  {
   "cell_type": "markdown",
   "metadata": {},
   "source": [
    "# Day 3"
   ]
  },
  {
   "cell_type": "code",
   "execution_count": 46,
   "metadata": {},
   "outputs": [],
   "source": [
    "def X(point): return point[0]\n",
    "def Y(point): return point[1]\n",
    "\n",
    "origin = (0, 0)\n",
    "HEADINGS = { \"U\": (0, -1), \"L\": (-1, 0), \"D\": (0, 1), \"R\": (1, 0) }\n",
    "\n",
    "def add(A, B): \n",
    "    \"Element-wise addition of two n-dimensional vectors.\"\n",
    "    return mapt(sum, zip(A, B))\n",
    "\n",
    "def cityblock_distance(P, Q=origin): \n",
    "    \"Manhatten distance between two points.\"\n",
    "    return sum(abs(p - q) for p, q in zip(P, Q))\n",
    "\n",
    "def segment(start, directionStr, distance):\n",
    "    direction = HEADINGS[directionStr]\n",
    "    vect = (direction[0] * distance, direction[1] * distance)\n",
    "    end = add(start, vect)\n",
    "    return (start, end)\n",
    "\n",
    "def ccw(A,B,C):\n",
    "    return (C[1]-A[1]) * (B[0]-A[0]) > (B[1]-A[1]) * (C[0]-A[0])\n",
    "\n",
    "# Return true if line segments AB and CD intersect\n",
    "def intersect(A,B,C,D):\n",
    "    return ccw(A,C,D) != ccw(B,C,D) and ccw(A,B,C) != ccw(A,B,D)\n",
    "\n",
    "def intersectPt(line1, line2):\n",
    "    xdiff = (line1[0][0] - line1[1][0], line2[0][0] - line2[1][0])\n",
    "    ydiff = (line1[0][1] - line1[1][1], line2[0][1] - line2[1][1])\n",
    "\n",
    "    def det(a, b):\n",
    "        return a[0] * b[1] - a[1] * b[0]\n",
    "\n",
    "    div = det(xdiff, ydiff)\n",
    "    if div == 0:\n",
    "       raise Exception('lines do not intersect')\n",
    "\n",
    "    d = (det(line1[0],line1[1]), det(line2[0],line2[1]))\n",
    "    x = det(d, xdiff) / div\n",
    "    y = det(d, ydiff) / div\n",
    "    return int(x), int(y)"
   ]
  },
  {
   "cell_type": "code",
   "execution_count": 9,
   "metadata": {},
   "outputs": [
    {
     "data": {
      "text/plain": [
       "(301, 301)"
      ]
     },
     "execution_count": 9,
     "metadata": {},
     "output_type": "execute_result"
    }
   ],
   "source": [
    "file = Input(3)\n",
    "w1 = [str(x) for x in file.readline().split(',')]\n",
    "w2 = [str(x) for x in file.readline().split(',')]\n",
    "\n",
    "(len(w1),len(w2))"
   ]
  },
  {
   "cell_type": "markdown",
   "metadata": {},
   "source": [
    "### Part 1"
   ]
  },
  {
   "cell_type": "code",
   "execution_count": 47,
   "metadata": {},
   "outputs": [
    {
     "data": {
      "text/plain": [
       "209"
      ]
     },
     "execution_count": 47,
     "metadata": {},
     "output_type": "execute_result"
    }
   ],
   "source": [
    "w1p = []\n",
    "for s in w1:\n",
    "    directionStr = s[:1]\n",
    "    distance = int(s[1:])\n",
    "    start = origin if len(w1p) == 0 else w1p[-1][1]\n",
    "    w1p.append(segment(start, directionStr, distance))\n",
    "\n",
    "w2p = []\n",
    "for s in w2:\n",
    "    directionStr = s[:1]\n",
    "    distance = int(s[1:])\n",
    "    start = origin if len(w2p) == 0 else w2p[-1][1]\n",
    "    w2p.append(segment(start, directionStr, distance))\n",
    "\n",
    "cross = []\n",
    "for i in w1p:\n",
    "    for j in w2p:\n",
    "        if intersect(i[0],i[1],j[0],j[1]):\n",
    "            cross.append(intersectPt(i,j))\n",
    "\n",
    "shortest = 99999999999999\n",
    "for pt in cross:\n",
    "    dist = cityblock_distance(origin, pt)\n",
    "    if dist < shortest:\n",
    "        shortest = dist\n",
    "\n",
    "assert shortest == 209\n",
    "shortest"
   ]
  },
  {
   "cell_type": "markdown",
   "metadata": {},
   "source": [
    "### Part 2"
   ]
  },
  {
   "cell_type": "code",
   "execution_count": 49,
   "metadata": {},
   "outputs": [
    {
     "data": {
      "text/plain": [
       "209"
      ]
     },
     "execution_count": 49,
     "metadata": {},
     "output_type": "execute_result"
    }
   ],
   "source": [
    "w1pb = []\n",
    "for s in w1:\n",
    "    directionStr = s[:1]\n",
    "    distance = int(s[1:])\n",
    "    start = origin if len(w1pb) == 0 else w1pb[-1][1]\n",
    "    line = segment(start, directionStr, distance)\n",
    "    w1pb.append((line[0],line[1],distance))\n",
    "\n",
    "w2pb = []\n",
    "for s in w2:\n",
    "    directionStr = s[:1]\n",
    "    distance = int(s[1:])\n",
    "    start = origin if len(w2pb) == 0 else w2pb[-1][1]\n",
    "    line = segment(start, directionStr, distance)\n",
    "    w2pb.append((line[0],line[1],distance))\n",
    "\n",
    "cross = []\n",
    "for i in w1pb:\n",
    "    for j in w2pb:\n",
    "        if intersect(i[0],i[1],j[0],j[1]):\n",
    "            cross.append(intersectPt(i,j))\n",
    "\n",
    "shortest = 99999999999999\n",
    "for pt in cross:\n",
    "    dist = cityblock_distance(origin, pt)\n",
    "    if dist < shortest:\n",
    "        shortest = dist\n",
    "\n",
    "shortest"
   ]
  },
  {
   "cell_type": "code",
   "execution_count": null,
   "metadata": {},
   "outputs": [],
   "source": []
  }
 ],
 "metadata": {
  "kernelspec": {
   "display_name": "Python 3",
   "language": "python",
   "name": "python3"
  },
  "language_info": {
   "codemirror_mode": {
    "name": "ipython",
    "version": 3
   },
   "file_extension": ".py",
   "mimetype": "text/x-python",
   "name": "python",
   "nbconvert_exporter": "python",
   "pygments_lexer": "ipython3",
   "version": "3.7.4"
  }
 },
 "nbformat": 4,
 "nbformat_minor": 2
}
